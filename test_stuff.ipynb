{
 "cells": [
  {
   "cell_type": "code",
   "execution_count": 1,
   "metadata": {},
   "outputs": [],
   "source": [
    "import numpy as np"
   ]
  },
  {
   "cell_type": "code",
   "execution_count": 5,
   "metadata": {},
   "outputs": [
    {
     "name": "stdout",
     "output_type": "stream",
     "text": [
      "[21.17048873 -0.37775106 -0.27076122]\n"
     ]
    }
   ],
   "source": [
    "r1 = np.array((-0.92095105,  0.03302738,  0.07349376))\n",
    "r2 = np.array(( 1.02416055, -0.0016798 ,  0.04861664))\n",
    "\n",
    "r_vec = r2 - r1\n",
    "r = np.linalg.norm(r_vec)\n",
    "            \n",
    "def f_NN(dr, direction):\n",
    "    return -200*(dr - 2)*direction\n",
    "\n",
    "print(f_NN(r, r_vec))\n",
    "\n"
   ]
  }
 ],
 "metadata": {
  "kernelspec": {
   "display_name": "mucus",
   "language": "python",
   "name": "python3"
  },
  "language_info": {
   "codemirror_mode": {
    "name": "ipython",
    "version": 3
   },
   "file_extension": ".py",
   "mimetype": "text/x-python",
   "name": "python",
   "nbconvert_exporter": "python",
   "pygments_lexer": "ipython3",
   "version": "3.10.8"
  },
  "orig_nbformat": 4,
  "vscode": {
   "interpreter": {
    "hash": "e4c7bcd968ce4280c944f6cd2dacba05d8381ac4d3aeee75066fba063ae2bf0c"
   }
  }
 },
 "nbformat": 4,
 "nbformat_minor": 2
}
