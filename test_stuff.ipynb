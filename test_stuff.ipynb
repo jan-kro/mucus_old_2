{
 "cells": [
  {
   "cell_type": "code",
   "execution_count": 1,
   "metadata": {},
   "outputs": [],
   "source": [
    "import numpy as np\n",
    "from polymer.config import Config\n",
    "import toml\n",
    "import matplotlib.pyplot as plt"
   ]
  },
  {
   "cell_type": "code",
   "execution_count": 4,
   "metadata": {},
   "outputs": [
    {
     "name": "stdout",
     "output_type": "stream",
     "text": [
      "{'steps': 1000, 'stride': 50, 'nbeads': 10, 'nchains': 6, 'mobility': 5e-05, 'fname_sys': '/home/jan/Desktop', 'fname_traj': '/home/jan/Desktop'}\n",
      "steps=1000 stride=50 nbeads=10 nchains=6 mobility=5e-05 rbead=1.0 qbead=2.08 force_constant=100.0 epsilon_LJ=0.25 sigma_LJ=2.0 cutoff_LJ=2.0 lB_debye=3.077 c_S=10 cutoff_debye=4.0 lbox=None pbc=True cutoff_pbc=None save_traj=True write_traj=True cwd='/home/jan/Documents/masterthesis/project/mucus' fname_traj='/home/jan/Desktop' fname_sys='/home/jan/Desktop' bonds=None simulation_time=None\n"
     ]
    }
   ],
   "source": [
    "path = \"/home/jan/Documents/masterthesis/project/mucus/config.toml\"\n",
    "config = Config.from_toml(path)\n",
    "data = toml.load(open(path, encoding=\"UTF-8\"))\n",
    "print(data)\n",
    "config = Config.from_dict(data)\n",
    "print(config)"
   ]
  },
  {
   "cell_type": "code",
   "execution_count": 8,
   "metadata": {},
   "outputs": [
    {
     "ename": "TomlDecodeError",
     "evalue": "This float doesn't have a leading digit (line 15 column 1 char 206)",
     "output_type": "error",
     "traceback": [
      "\u001b[0;31m---------------------------------------------------------------------------\u001b[0m",
      "\u001b[0;31mValueError\u001b[0m                                Traceback (most recent call last)",
      "File \u001b[0;32m~/anaconda3/envs/mucus/lib/python3.10/site-packages/toml/decoder.py:511\u001b[0m, in \u001b[0;36mloads\u001b[0;34m(s, _dict, decoder)\u001b[0m\n\u001b[1;32m    510\u001b[0m \u001b[39mtry\u001b[39;00m:\n\u001b[0;32m--> 511\u001b[0m     ret \u001b[39m=\u001b[39m decoder\u001b[39m.\u001b[39;49mload_line(line, currentlevel, multikey,\n\u001b[1;32m    512\u001b[0m                             multibackslash)\n\u001b[1;32m    513\u001b[0m \u001b[39mexcept\u001b[39;00m \u001b[39mValueError\u001b[39;00m \u001b[39mas\u001b[39;00m err:\n",
      "File \u001b[0;32m~/anaconda3/envs/mucus/lib/python3.10/site-packages/toml/decoder.py:778\u001b[0m, in \u001b[0;36mTomlDecoder.load_line\u001b[0;34m(self, line, currentlevel, multikey, multibackslash)\u001b[0m\n\u001b[1;32m    777\u001b[0m \u001b[39melse\u001b[39;00m:\n\u001b[0;32m--> 778\u001b[0m     value, vtype \u001b[39m=\u001b[39m \u001b[39mself\u001b[39;49m\u001b[39m.\u001b[39;49mload_value(pair[\u001b[39m1\u001b[39;49m], strictly_valid)\n\u001b[1;32m    779\u001b[0m \u001b[39mtry\u001b[39;00m:\n",
      "File \u001b[0;32m~/anaconda3/envs/mucus/lib/python3.10/site-packages/toml/decoder.py:910\u001b[0m, in \u001b[0;36mTomlDecoder.load_value\u001b[0;34m(self, v, strictly_valid)\u001b[0m\n\u001b[1;32m    909\u001b[0m \u001b[39mif\u001b[39;00m v[\u001b[39m0\u001b[39m] \u001b[39mnot\u001b[39;00m \u001b[39min\u001b[39;00m \u001b[39m'\u001b[39m\u001b[39m0123456789\u001b[39m\u001b[39m'\u001b[39m:\n\u001b[0;32m--> 910\u001b[0m     \u001b[39mraise\u001b[39;00m \u001b[39mValueError\u001b[39;00m(\u001b[39m\"\u001b[39m\u001b[39mThis float doesn\u001b[39m\u001b[39m'\u001b[39m\u001b[39mt have a leading \u001b[39m\u001b[39m\"\u001b[39m\n\u001b[1;32m    911\u001b[0m                      \u001b[39m\"\u001b[39m\u001b[39mdigit\u001b[39m\u001b[39m\"\u001b[39m)\n\u001b[1;32m    912\u001b[0m v \u001b[39m=\u001b[39m \u001b[39mfloat\u001b[39m(v)\n",
      "\u001b[0;31mValueError\u001b[0m: This float doesn't have a leading digit",
      "\nDuring handling of the above exception, another exception occurred:\n",
      "\u001b[0;31mTomlDecodeError\u001b[0m                           Traceback (most recent call last)",
      "Cell \u001b[0;32mIn[8], line 6\u001b[0m\n\u001b[1;32m      4\u001b[0m fin \u001b[39m=\u001b[39m cfg_path \u001b[39m+\u001b[39m \u001b[39mf\u001b[39m\u001b[39m\"\u001b[39m\u001b[39m/cfg_test_time_nbeads_\u001b[39m\u001b[39m{\u001b[39;00mi\u001b[39m:\u001b[39;00m\u001b[39md\u001b[39m\u001b[39m}\u001b[39;00m\u001b[39m.toml\u001b[39m\u001b[39m\"\u001b[39m\n\u001b[1;32m      5\u001b[0m x \u001b[39m=\u001b[39m \u001b[39mopen\u001b[39m(fin, encoding\u001b[39m=\u001b[39m\u001b[39m\"\u001b[39m\u001b[39mUTF-8\u001b[39m\u001b[39m\"\u001b[39m)\n\u001b[0;32m----> 6\u001b[0m out \u001b[39m=\u001b[39m toml\u001b[39m.\u001b[39;49mload(x)\n\u001b[1;32m      7\u001b[0m \u001b[39mprint\u001b[39m(x)\n",
      "File \u001b[0;32m~/anaconda3/envs/mucus/lib/python3.10/site-packages/toml/decoder.py:156\u001b[0m, in \u001b[0;36mload\u001b[0;34m(f, _dict, decoder)\u001b[0m\n\u001b[1;32m    154\u001b[0m \u001b[39melse\u001b[39;00m:\n\u001b[1;32m    155\u001b[0m     \u001b[39mtry\u001b[39;00m:\n\u001b[0;32m--> 156\u001b[0m         \u001b[39mreturn\u001b[39;00m loads(f\u001b[39m.\u001b[39;49mread(), _dict, decoder)\n\u001b[1;32m    157\u001b[0m     \u001b[39mexcept\u001b[39;00m \u001b[39mAttributeError\u001b[39;00m:\n\u001b[1;32m    158\u001b[0m         \u001b[39mraise\u001b[39;00m \u001b[39mTypeError\u001b[39;00m(\u001b[39m\"\u001b[39m\u001b[39mYou can only load a file descriptor, filename or \u001b[39m\u001b[39m\"\u001b[39m\n\u001b[1;32m    159\u001b[0m                         \u001b[39m\"\u001b[39m\u001b[39mlist\u001b[39m\u001b[39m\"\u001b[39m)\n",
      "File \u001b[0;32m~/anaconda3/envs/mucus/lib/python3.10/site-packages/toml/decoder.py:514\u001b[0m, in \u001b[0;36mloads\u001b[0;34m(s, _dict, decoder)\u001b[0m\n\u001b[1;32m    511\u001b[0m     ret \u001b[39m=\u001b[39m decoder\u001b[39m.\u001b[39mload_line(line, currentlevel, multikey,\n\u001b[1;32m    512\u001b[0m                             multibackslash)\n\u001b[1;32m    513\u001b[0m \u001b[39mexcept\u001b[39;00m \u001b[39mValueError\u001b[39;00m \u001b[39mas\u001b[39;00m err:\n\u001b[0;32m--> 514\u001b[0m     \u001b[39mraise\u001b[39;00m TomlDecodeError(\u001b[39mstr\u001b[39m(err), original, pos)\n\u001b[1;32m    515\u001b[0m \u001b[39mif\u001b[39;00m ret \u001b[39mis\u001b[39;00m \u001b[39mnot\u001b[39;00m \u001b[39mNone\u001b[39;00m:\n\u001b[1;32m    516\u001b[0m     multikey, multilinestr, multibackslash \u001b[39m=\u001b[39m ret\n",
      "\u001b[0;31mTomlDecodeError\u001b[0m: This float doesn't have a leading digit (line 15 column 1 char 206)"
     ]
    }
   ],
   "source": [
    "cfg_path = \"/home/jan/Documents/masterthesis/project/mucus/configs/tests\"\n",
    "\n",
    "for i in range(6):\n",
    "    fin = cfg_path + f\"/cfg_test_time_nbeads_{i:d}.toml\"\n",
    "    x = open(fin, encoding=\"UTF-8\")\n",
    "    out = toml.load(x)\n",
    "    print(x)"
   ]
  },
  {
   "cell_type": "code",
   "execution_count": 17,
   "metadata": {},
   "outputs": [
    {
     "name": "stdout",
     "output_type": "stream",
     "text": [
      "steps\n",
      "stride\n",
      "nbeads\n",
      "nchains\n",
      "mobility\n"
     ]
    }
   ],
   "source": [
    "# CREATE CONFIG FILES FOR TESTING\n",
    "\n",
    "#config_dict = {'steps': 100, 'stride': 50, 'nbeads': 10, 'nchains': 8, 'mobility': 5e-05, 'fname_sys': \"'a/b/c.txt'\", 'fname_traj': None}\n",
    "config_dict = {'steps': 100, 'stride': 50, 'nbeads': 10, 'nchains': 8, 'mobility': 5e-05}\n",
    "\n",
    "nm = ((6, 6), (10, 8), (10, 16), (12, 36), (20, 36), (11, 91))\n",
    "\n",
    "pathout = \"/home/jan/Documents/masterthesis/project/mucus/configs/tests\"\n",
    "\n",
    "for i, k in enumerate(nm):\n",
    "    config_dict[\"nbeads\"] = k[0]\n",
    "    config_dict[\"nchains\"] = k[1]\n",
    "    config_dict[\"fname_sys\"] = f\"'/home/jan/Documents/masterthesis/project/mucus/configs/cfg_test_time_nbeads_{i:d}.toml'\"\n",
    "    config_dict[\"fname_traj\"] = f\"'/home/jan/Documents/masterthesis/project/mucus/trajectories/traj_test_time_nbeads_{i:d}.gro'\"\n",
    "    output = \"\"\n",
    "    for key in config_dict:\n",
    "        output += f\"{key:s} = {config_dict[key]}\\n\"\n",
    "    \n",
    "    fout = pathout + f\"/cfg_test_time_nbeads_{i:d}.toml\"\n",
    "\n",
    "    f = open(fout, \"w\")\n",
    "    f.write(output)\n",
    "    f.close()\n",
    "    \n",
    "    #cfg = Config.from_dict(config_dict)\n",
    "    #print(cfg)\n",
    "    #cfg.save_config(fout)\n",
    "    \n"
   ]
  },
  {
   "cell_type": "code",
   "execution_count": 38,
   "metadata": {},
   "outputs": [
    {
     "name": "stdout",
     "output_type": "stream",
     "text": [
      "36\n",
      "80\n",
      "160\n",
      "432\n",
      "720\n",
      "1001\n",
      "10\n"
     ]
    },
    {
     "data": {
      "text/plain": [
       "[<matplotlib.lines.Line2D at 0x7f1bd923d0c0>]"
      ]
     },
     "execution_count": 38,
     "metadata": {},
     "output_type": "execute_result"
    },
    {
     "data": {
      "image/png": "[encoded data removed]",
      "text/plain": [
       "<Figure size 640x480 with 1 Axes>"
      ]
     },
     "metadata": {},
     "output_type": "display_data"
    }
   ],
   "source": [
    "# create different config files, that are loaded into the class with a loop\n",
    "\n",
    "config_dict = {'steps': 10000, 'stride': 50, 'nbeads': 10, 'nchains': 8, 'mobility': 5e-05}\n",
    "\n",
    "nm = ((6, 6), (10, 8), (10, 16), (12, 36), (20, 36), (11, 91))\n",
    "\n",
    "\n",
    "\n",
    "for k in nm:\n",
    "    n = k[0]\n",
    "    m = k[1]\n",
    "    print(n*m)\n",
    "\n",
    "print(config_dict['nbeads'])\n",
    "xy = np.array(nm)\n",
    "plt.plot(xy[:, 0]*xy[:, 1],xy[:, 0]*xy[:, 1]+100*np.random.randn(*np.shape(xy[:,1])))\n"
   ]
  }
 ],
 "metadata": {
  "kernelspec": {
   "display_name": "mucus",
   "language": "python",
   "name": "python3"
  },
  "language_info": {
   "codemirror_mode": {
    "name": "ipython",
    "version": 3
   },
   "file_extension": ".py",
   "mimetype": "text/x-python",
   "name": "python",
   "nbconvert_exporter": "python",
   "pygments_lexer": "ipython3",
   "version": "3.10.8"
  },
  "orig_nbformat": 4,
  "vscode": {
   "interpreter": {
    "hash": "e4c7bcd968ce4280c944f6cd2dacba05d8381ac4d3aeee75066fba063ae2bf0c"
   }
  }
 },
 "nbformat": 4,
 "nbformat_minor": 2
}
