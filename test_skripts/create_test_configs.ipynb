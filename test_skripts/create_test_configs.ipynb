{
 "cells": [
  {
   "cell_type": "code",
   "execution_count": 3,
   "metadata": {},
   "outputs": [],
   "source": [
    "import sys\n",
    "parent_path = \"/home/jan/Documents/masterthesis/project/mucus\"\n",
    "sys.path.append(parent_path)\n",
    "\n",
    "import numpy as np\n",
    "from polymer.config import Config\n",
    "import toml\n",
    "import matplotlib.pyplot as plt"
   ]
  },
  {
   "cell_type": "code",
   "execution_count": 5,
   "metadata": {},
   "outputs": [],
   "source": [
    "# CREATE CONFIG FILES FOR TESTING\n",
    "\n",
    "#config_dict = {'steps': 100, 'stride': 50, 'nbeads': 10, 'nchains': 8, 'mobility': 5e-05, 'fname_sys': \"'a/b/c.txt'\", 'fname_traj': None}\n",
    "config_dict = {'steps': 1000000, 'stride': 50, 'nbeads': 10, 'nchains': 12, 'mobility': 5e-05, 'lbox': 20, 'number_of_beads': 120}\n",
    "\n",
    "# nm = ((6, 6), (10, 8), (10, 16), (12, 36), (20, 36), (11, 91))\n",
    "nbeads = 10\n",
    "r0 = 2\n",
    "lbox = np.linspace(nbeads*r0, nbeads*r0*2.5, 2)\n",
    "\n",
    "pathout = \"/home/jan/Documents/masterthesis/project/mucus/configs/tests\"\n",
    "path_sys = \"/home/janmak98/mucus/configs\"\n",
    "path_traj = \"/storage/janmak98/masterthesis/trajectories/box/test\"\n",
    "\n",
    "cfg_name = \"test_box_10_12\"\n",
    "\n",
    "for i, k in enumerate(lbox):\n",
    "    # config_dict[\"nbeads\"] = k[0]\n",
    "    # config_dict[\"nchains\"] = k[1]\n",
    "    config_dict[\"lbox\"] = k\n",
    "    config_dict[\"fname_sys\"] = f\"'{path_sys:s}/cfg_{cfg_name:s}_{i:d}.toml'\"\n",
    "    config_dict[\"fname_traj\"] = f\"'{path_traj:s}/traj_{cfg_name:s}_{i:d}.gro'\"\n",
    "    config_dict[\"cwd\"] = \"'/home/janmak98/mucus'\"\n",
    "    output = \"\"\n",
    "    for key in config_dict:\n",
    "        output += f\"{key:s} = {config_dict[key]}\\n\"\n",
    "    \n",
    "    fout = pathout + f\"/cfg_{cfg_name:s}_{i:d}.toml\"\n",
    "    # print(fout)\n",
    "    # print(config_dict[\"fname_sys\"])\n",
    "    # print(config_dict[\"fname_traj\"])\n",
    "    # print(\"\")\n",
    "    f = open(fout, \"w\")\n",
    "    f.write(output)\n",
    "    f.close()\n",
    "    \n",
    "    #cfg = Config.from_dict(config_dict)\n",
    "    #print(cfg)\n",
    "    #cfg.save_config(fout)\n",
    "    "
   ]
  },
  {
   "cell_type": "code",
   "execution_count": 18,
   "metadata": {},
   "outputs": [
    {
     "name": "stdout",
     "output_type": "stream",
     "text": [
      "<class 'tuple'>\n",
      "true\n"
     ]
    }
   ],
   "source": [
    "a = (1, 2, 3)\n",
    "#a = (5)\n",
    "\n",
    "if (type(a) == tuple) or (type(a)==list):\n",
    "    print(\"true\")\n",
    "else:\n",
    "    print(\"false\")"
   ]
  }
 ],
 "metadata": {
  "kernelspec": {
   "display_name": "mucus",
   "language": "python",
   "name": "python3"
  },
  "language_info": {
   "codemirror_mode": {
    "name": "ipython",
    "version": 3
   },
   "file_extension": ".py",
   "mimetype": "text/x-python",
   "name": "python",
   "nbconvert_exporter": "python",
   "pygments_lexer": "ipython3",
   "version": "3.10.8"
  },
  "orig_nbformat": 4,
  "vscode": {
   "interpreter": {
    "hash": "e4c7bcd968ce4280c944f6cd2dacba05d8381ac4d3aeee75066fba063ae2bf0c"
   }
  }
 },
 "nbformat": 4,
 "nbformat_minor": 2
}
