{
 "cells": [
  {
   "cell_type": "code",
   "execution_count": 3,
   "metadata": {},
   "outputs": [],
   "source": [
    "import sys\n",
    "parent_path = \"/home/jan/Documents/masterthesis/project/mucus\"\n",
    "sys.path.append(parent_path)\n",
    "\n",
    "import numpy as np\n",
    "from polymer.config import Config\n",
    "import toml\n",
    "import matplotlib.pyplot as plt"
   ]
  },
  {
   "cell_type": "code",
   "execution_count": 9,
   "metadata": {},
   "outputs": [
    {
     "name": "stdout",
     "output_type": "stream",
     "text": [
      "171.101447928321\n",
      "107.78715795619158\n",
      "82.2569965845321\n",
      "67.9016546086747\n",
      "58.51587207979685\n",
      "51.81866074899135\n",
      "46.75789930851305\n",
      "42.77536198208024\n",
      "39.545039326273134\n"
     ]
    }
   ],
   "source": [
    "def n2L(n, c, a=2.6e-10, n_MM=1):\n",
    "    \"\"\"\n",
    "    calculates the box length in rescaled units (1a = 2.6e-10 m)\n",
    "    for n beads in with concentration c, where [c] = wt%\n",
    "    \n",
    "    this assumes that one bead represents n_MM monomeres with distance 2a*n_MM to each other.\n",
    "    \"\"\"\n",
    "    \n",
    "    nA = 6.02214076e23\n",
    "    lbox = (44.05*n*n_MM/(nA*0.997e4*c))**(1/3)/(a*n_MM)\n",
    "    \n",
    "    return lbox\n",
    "\n",
    "n = 120\n",
    "n_MM = np.arange(1, 10)\n",
    "for ni in n_MM:\n",
    "    print(n2L(n, 0.01, n_MM=ni))\n"
   ]
  },
  {
   "cell_type": "code",
   "execution_count": 11,
   "metadata": {},
   "outputs": [
    {
     "name": "stdout",
     "output_type": "stream",
     "text": [
      "monomer radius\n",
      "1.905 Angstrom\n"
     ]
    }
   ],
   "source": [
    "# calculate monomere DISTANCE\n",
    "\n",
    "cc = 1.54 # angstrom\n",
    "oc = 1.43 # angstrom\n",
    "\n",
    "phi = np.deg2rad(60)\n",
    "x = 3*oc/2 + np.cos(phi)*(cc + oc/2)\n",
    "y = np.sin(phi)*(cc + oc/2)\n",
    "d = np.sqrt(x**2 + y**2)\n",
    "\n",
    "# monomere RADIUS\n",
    "r = d/2\n",
    "print(\"monomer radius\")\n",
    "print(f\"{r:.3f}\", \"Angstrom\")"
   ]
  },
  {
   "cell_type": "code",
   "execution_count": 5,
   "metadata": {},
   "outputs": [],
   "source": [
    "# CREATE CONFIG FILES FOR TESTING\n",
    "\n",
    "#config_dict = {'steps': 100, 'stride': 50, 'nbeads': 10, 'nchains': 8, 'mobility': 5e-05, 'fname_sys': \"'a/b/c.txt'\", 'fname_traj': None}\n",
    "config_dict = {'steps': 1000000, 'stride': 50, 'nbeads': 10, 'nchains': 12, 'mobility': 5e-05, 'lbox': 20, 'number_of_beads': 120}\n",
    "\n",
    "# nm = ((6, 6), (10, 8), (10, 16), (12, 36), (20, 36), (11, 91))\n",
    "nbeads = 10\n",
    "r0 = 2\n",
    "lbox = np.linspace(nbeads*r0, nbeads*r0*2.5, 2)\n",
    "\n",
    "pathout = \"/home/jan/Documents/masterthesis/project/mucus/configs/tests\"\n",
    "path_sys = \"/home/janmak98/mucus/configs\"\n",
    "path_traj = \"/storage/janmak98/masterthesis/trajectories/box/test\"\n",
    "\n",
    "cfg_name = \"test_box_10_12\"\n",
    "\n",
    "for i, k in enumerate(lbox):\n",
    "    # config_dict[\"nbeads\"] = k[0]\n",
    "    # config_dict[\"nchains\"] = k[1]\n",
    "    config_dict[\"lbox\"] = k\n",
    "    config_dict[\"fname_sys\"] = f\"'{path_sys:s}/cfg_{cfg_name:s}_{i:d}.toml'\"\n",
    "    config_dict[\"fname_traj\"] = f\"'{path_traj:s}/traj_{cfg_name:s}_{i:d}.gro'\"\n",
    "    config_dict[\"cwd\"] = \"'/home/janmak98/mucus'\"\n",
    "    output = \"\"\n",
    "    for key in config_dict:\n",
    "        output += f\"{key:s} = {config_dict[key]}\\n\"\n",
    "    \n",
    "    fout = pathout + f\"/cfg_{cfg_name:s}_{i:d}.toml\"\n",
    "    # print(fout)\n",
    "    # print(config_dict[\"fname_sys\"])\n",
    "    # print(config_dict[\"fname_traj\"])\n",
    "    # print(\"\")\n",
    "    f = open(fout, \"w\")\n",
    "    f.write(output)\n",
    "    f.close()\n",
    "    \n",
    "    #cfg = Config.from_dict(config_dict)\n",
    "    #print(cfg)\n",
    "    #cfg.save_config(fout)\n",
    "    "
   ]
  },
  {
   "cell_type": "code",
   "execution_count": 18,
   "metadata": {},
   "outputs": [
    {
     "name": "stdout",
     "output_type": "stream",
     "text": [
      "<class 'tuple'>\n",
      "true\n"
     ]
    }
   ],
   "source": [
    "a = (1, 2, 3)\n",
    "#a = (5)\n",
    "\n",
    "if (type(a) == tuple) or (type(a)==list):\n",
    "    print(\"true\")\n",
    "else:\n",
    "    print(\"false\")"
   ]
  }
 ],
 "metadata": {
  "kernelspec": {
   "display_name": "mucus",
   "language": "python",
   "name": "python3"
  },
  "language_info": {
   "codemirror_mode": {
    "name": "ipython",
    "version": 3
   },
   "file_extension": ".py",
   "mimetype": "text/x-python",
   "name": "python",
   "nbconvert_exporter": "python",
   "pygments_lexer": "ipython3",
   "version": "3.10.8"
  },
  "orig_nbformat": 4,
  "vscode": {
   "interpreter": {
    "hash": "e4c7bcd968ce4280c944f6cd2dacba05d8381ac4d3aeee75066fba063ae2bf0c"
   }
  }
 },
 "nbformat": 4,
 "nbformat_minor": 2
}
