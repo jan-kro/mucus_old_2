{
 "cells": [
  {
   "cell_type": "code",
   "execution_count": 1,
   "metadata": {},
   "outputs": [],
   "source": [
    "import sys\n",
    "parent_path = \"/home/jan/Documents/masterthesis/project/mucus\"\n",
    "sys.path.append(parent_path)\n",
    "\n",
    "import numpy as np\n",
    "from polymer import Config, Polymer\n",
    "import toml\n",
    "import matplotlib.pyplot as plt\n",
    "from numba import njit\n",
    "from time import time\n",
    "from datetime import timedelta"
   ]
  },
  {
   "cell_type": "code",
   "execution_count": 16,
   "metadata": {},
   "outputs": [],
   "source": [
    "cfg_fname = '/home/jan/Documents/masterthesis/project/mucus/configs/cfg_chain_testForces_50beads_1Msteps_3.toml'\n",
    "\n",
    "def delete_lbox(cfg_fname):\n",
    "    f = open(cfg_fname)\n",
    "    output = \"\"\n",
    "    for line in f:\n",
    "        if line != \"lbox = None\\n\":\n",
    "            output += line\n",
    "    f.close()\n",
    "\n",
    "    f = open(cfg_fname, \"w\")\n",
    "    f.write(output)\n",
    "    f.close()\n",
    "    return\n",
    "\n",
    "delete_lbox(cfg_fname)"
   ]
  },
  {
   "cell_type": "code",
   "execution_count": 10,
   "metadata": {},
   "outputs": [],
   "source": [
    "def delete_lbox(cfg_fname):\n",
    "    f = open(cfg_fname)\n",
    "    output = \"\"\n",
    "    for line in f:\n",
    "        if line != \"lbox = None\\n\":\n",
    "            output += line\n",
    "    f.close()\n",
    "\n",
    "    f = open(cfg_fname, \"w\")\n",
    "    f.write(output)\n",
    "    f.close()\n",
    "    return\n",
    "\n",
    "def distances(traj):\n",
    "    n = len(traj[0]) # number of atoms\n",
    "    distances = np.zeros((1, n , n))\n",
    "    \n",
    "    r_left = np.tile(traj[0], (n, 1, 1)) # repeats vector along third dimension len(a) times\n",
    "    r_right = np.reshape(np.repeat(traj[0], n, 0), (n, n, 3)) # does the same but \"flipped\"\n",
    "\n",
    "    directions = r_left - r_right # this is right considering the mesh method. dir[i, j] = r_j - r_i\n",
    "    distances[0] = np.linalg.norm(directions, axis=2)\n",
    "    \n",
    "    for frame in traj[1:]:\n",
    "        r_left = np.tile(frame, (n, 1, 1)) # repeats vector along third dimension len(a) times\n",
    "        r_right = np.reshape(np.repeat(frame, n, 0), (n, n, 3)) # does the same but \"flipped\"\n",
    "\n",
    "        directions = r_left - r_right # this is right considering the mesh method. dir[i, j] = r_j - r_i\n",
    "        distances = np.append(distances, [np.linalg.norm(directions, axis=2)], axis=0)\n",
    "        \n",
    "    return distances\n",
    "\n",
    "# calculate rdf\n",
    "name = 'chain_testForces_50beads_1Msteps'\n",
    "dir_data = '/storage/janmak98/masterthesis'\n",
    "i = 3\n",
    "\n",
    "cfg_fname = f'/home/jan/Documents/masterthesis/project/mucus/configs/cfg_{name:s}_{i:d}.toml'\n",
    "traj_fname = f'/home/jan/Documents/masterthesis/project/mucus/trajectories/traj_{name:s}_{i:d}.gro'\n",
    "dist_fname = f'/home/jan/Documents/masterthesis/project/mucus/distances/test/dist_{name:s}_{i:d}.npy'\n",
    "\n",
    "# in .py\n",
    "cfg_fname = f'{dir_data:s}/configs/box/test/cfg_{name:s}_{i:d}.toml'\n",
    "traj_fname = f'{dir_data:s}/trajectories/box/test/traj_{name:s}_{i:d}.gro'\n",
    "dist_fname = f'{dir_data:s}/distances/box/test/dist_{name:s}_{i:d}.npy'\n",
    "\n",
    "\n",
    "delete_lbox(cfg_fname)\n",
    "\n",
    "cfg = Config.from_toml(cfg_fname)\n",
    "p = Polymer(cfg)\n",
    "p.load_traj_gro(traj_fname, overwrite=True)\n",
    "\n",
    "d = distances(p.trajectory[:100])\n",
    "np.save(dist_fname, d)\n",
    "\n"
   ]
  },
  {
   "cell_type": "code",
   "execution_count": 21,
   "metadata": {},
   "outputs": [
    {
     "name": "stdout",
     "output_type": "stream",
     "text": [
      "['/storage/janmak98/masterthesis/configs/box/test/cfg_box_twoChains_140beads_2Msteps.toml', '/storage/janmak98/masterthesis/configs/box/test/cfg_chain_testForces_50beads_1Msteps_0.toml', '/storage/janmak98/masterthesis/configs/box/test/cfg_chain_testForces_50beads_1Msteps_1.toml', '/storage/janmak98/masterthesis/configs/box/test/cfg_chain_testForces_50beads_1Msteps_2.toml', '/storage/janmak98/masterthesis/configs/box/test/cfg_chain_testForces_50beads_1Msteps_3.toml', '/storage/janmak98/masterthesis/configs/box/test/cfg_box_testCharges_100beads_1Msteps_0.toml', '/storage/janmak98/masterthesis/configs/box/test/cfg_box_testCharges_100beads_1Msteps_1.toml', '/storage/janmak98/masterthesis/configs/box/test/cfg_box_testCharges_100beads_1Msteps_2.toml', '/storage/janmak98/masterthesis/configs/box/test/cfg_box_testCharges_100beads_1Msteps_3.toml']\n",
      "['/storage/janmak98/masterthesis/trajectories/box/test/traj_box_twoChains_140beads_2Msteps.gro', '/storage/janmak98/masterthesis/trajectories/box/test/traj_chain_testForces_50beads_1Msteps_0.gro', '/storage/janmak98/masterthesis/trajectories/box/test/traj_chain_testForces_50beads_1Msteps_1.gro', '/storage/janmak98/masterthesis/trajectories/box/test/traj_chain_testForces_50beads_1Msteps_2.gro', '/storage/janmak98/masterthesis/trajectories/box/test/traj_chain_testForces_50beads_1Msteps_3.gro', '/storage/janmak98/masterthesis/trajectories/box/test/traj_box_testCharges_100beads_1Msteps_0.gro', '/storage/janmak98/masterthesis/trajectories/box/test/traj_box_testCharges_100beads_1Msteps_1.gro', '/storage/janmak98/masterthesis/trajectories/box/test/traj_box_testCharges_100beads_1Msteps_2.gro', '/storage/janmak98/masterthesis/trajectories/box/test/traj_box_testCharges_100beads_1Msteps_3.gro']\n",
      "['/storage/janmak98/masterthesis/distances/box/test/dist_box_twoChains_140beads_2Msteps.npy', '/storage/janmak98/masterthesis/distances/box/test/dist_chain_testForces_50beads_1Msteps_0.npy', '/storage/janmak98/masterthesis/distances/box/test/dist_chain_testForces_50beads_1Msteps_1.npy', '/storage/janmak98/masterthesis/distances/box/test/dist_chain_testForces_50beads_1Msteps_2.npy', '/storage/janmak98/masterthesis/distances/box/test/dist_chain_testForces_50beads_1Msteps_3.npy', '/storage/janmak98/masterthesis/distances/box/test/dist_box_testCharges_100beads_1Msteps_0.npy', '/storage/janmak98/masterthesis/distances/box/test/dist_box_testCharges_100beads_1Msteps_1.npy', '/storage/janmak98/masterthesis/distances/box/test/dist_box_testCharges_100beads_1Msteps_2.npy', '/storage/janmak98/masterthesis/distances/box/test/dist_box_testCharges_100beads_1Msteps_3.npy']\n"
     ]
    }
   ],
   "source": [
    "# make the .py\n",
    "import numpy as np\n",
    "from polymer import Config, Polymer\n",
    "import os\n",
    "import time\n",
    "import datetime\n",
    "\n",
    "names = ('chain_testForces_50beads_1Msteps', 'box_testCharges_100beads_1Msteps')\n",
    "dir_data = '/storage/janmak98/masterthesis'\n",
    "\n",
    "cfg_names = list(())\n",
    "cfg_names.append(dir_data+'/configs/box/test/cfg_box_twoChains_140beads_2Msteps.toml')\n",
    "traj_names = list(())\n",
    "traj_names.append(dir_data + '/trajectories/box/test/traj_box_twoChains_140beads_2Msteps.gro')\n",
    "dist_names = list(())\n",
    "dist_names.append(dir_data + '/distances/box/test/dist_box_twoChains_140beads_2Msteps.npy')\n",
    "\n",
    "for name in names:\n",
    "    for i in range(4):\n",
    "        cfg_fname = f'{dir_data:s}/configs/box/test/cfg_{name:s}_{i:d}.toml'\n",
    "        traj_fname = f'{dir_data:s}/trajectories/box/test/traj_{name:s}_{i:d}.gro'\n",
    "        dist_fname = f'{dir_data:s}/distances/box/test/dist_{name:s}_{i:d}.npy'\n",
    "        \n",
    "        cfg_names.append(cfg_fname)\n",
    "        traj_names.append(traj_fname)\n",
    "        dist_names.append(dist_fname)\n",
    "        \n",
    "for fname in cfg_names:\n",
    "    if not os.path.exists(fname):\n",
    "        raise NameError('File '+fname+' does not exist!')\n",
    "    \n",
    "for fname in cfg_names:\n",
    "    if not os.path.exists(fname):\n",
    "        raise NameError('File '+fname+' does not exist!')\n",
    "\n",
    "# delete lbox = None in .toml file\n",
    "def delete_lbox(cfg_fname):\n",
    "    f = open(cfg_fname)\n",
    "    output = \"\"\n",
    "    for line in f:\n",
    "        if line != \"lbox = None\\n\":\n",
    "            output += line\n",
    "    f.close()\n",
    "\n",
    "    f = open(cfg_fname, \"w\")\n",
    "    f.write(output)\n",
    "    f.close()\n",
    "    return\n",
    "\n",
    "# calculate distance matrix trajectory\n",
    "def distances(traj):\n",
    "    n = len(traj[0]) # number of atoms\n",
    "    distances = np.zeros((1, n , n))\n",
    "    \n",
    "    r_left = np.tile(traj[0], (n, 1, 1)) # repeats vector along third dimension len(a) times\n",
    "    r_right = np.reshape(np.repeat(traj[0], n, 0), (n, n, 3)) # does the same but \"flipped\"\n",
    "\n",
    "    directions = r_left - r_right # this is right considering the mesh method. dir[i, j] = r_j - r_i\n",
    "    distances[0] = np.linalg.norm(directions, axis=2)\n",
    "    \n",
    "    for frame in traj[1:]:\n",
    "        r_left = np.tile(frame, (n, 1, 1)) # repeats vector along third dimension len(a) times\n",
    "        r_right = np.reshape(np.repeat(frame, n, 0), (n, n, 3)) # does the same but \"flipped\"\n",
    "\n",
    "        directions = r_left - r_right # this is right considering the mesh method. dir[i, j] = r_j - r_i\n",
    "        distances = np.append(distances, [np.linalg.norm(directions, axis=2)], axis=0)\n",
    "        \n",
    "    return distances\n",
    "N = len(cfg_names)\n",
    "i = 1\n",
    "\n",
    "now = time.localtime()\n",
    "now_str = f\"{now.tm_mon:d}.{now.tm_mday}.{now.tm_year}  {now.tm_hour}:{now.tm_min}:{now.tm_sec}\"\n",
    "print(\"\\nCalculation started \", now_str)\n",
    "\n",
    "for cfg_fname, traj_fname, dist_fname in zip(cfg_names, traj_names, dist_names):\n",
    "    \n",
    "    delete_lbox(cfg_fname)\n",
    "\n",
    "    cfg = Config.from_toml(cfg_fname)\n",
    "    p = Polymer(cfg)\n",
    "    p.load_traj_gro(traj_fname, overwrite=True)\n",
    "\n",
    "    d = distances(p.trajectory)\n",
    "    np.save(dist_fname, d)\n",
    "    \n",
    "    print(f'\\n{i:d}/{N:d} distances calculated')\n",
    "    i += 1\n",
    "    \n",
    "now = time.localtime()\n",
    "now_str = f\"{now.tm_mon:d}.{now.tm_mday}.{now.tm_year}  {now.tm_hour}:{now.tm_min}:{now.tm_sec}\"\n",
    "\n",
    "print(\"\\nCalculation finished \", now_str)"
   ]
  },
  {
   "cell_type": "code",
   "execution_count": 19,
   "metadata": {},
   "outputs": [
    {
     "name": "stdout",
     "output_type": "stream",
     "text": [
      "302 days, 10:27:55.188446\n"
     ]
    }
   ],
   "source": [
    "# calculate radial distribution function\n",
    "# @njit\n",
    "def distances(traj):\n",
    "    n = len(traj[0]) # number of atoms\n",
    "    distances = np.zeros((1, n , n))\n",
    "    \n",
    "    r_left = np.tile(traj[0], (n, 1, 1)) # repeats vector along third dimension len(a) times\n",
    "    r_right = np.reshape(np.repeat(traj[0], n, 0), (n, n, 3)) # does the same but \"flipped\"\n",
    "\n",
    "    directions = r_left - r_right # this is right considering the mesh method. dir[i, j] = r_j - r_i\n",
    "    distances[0] = np.linalg.norm(directions, axis=2)\n",
    "    \n",
    "    for frame in traj[1:]:\n",
    "        r_left = np.tile(frame, (n, 1, 1)) # repeats vector along third dimension len(a) times\n",
    "        r_right = np.reshape(np.repeat(frame, n, 0), (n, n, 3)) # does the same but \"flipped\"\n",
    "\n",
    "        directions = r_left - r_right # this is right considering the mesh method. dir[i, j] = r_j - r_i\n",
    "        distances = np.append(distances, [np.linalg.norm(directions, axis=2)], axis=0)\n",
    "        \n",
    "t1 = time()\n",
    "d = distances(p.trajectory[:10000])\n",
    "t2 = time()\n",
    "\n",
    "\n",
    "\n",
    "print(timedelta(t2-t1))"
   ]
  },
  {
   "cell_type": "code",
   "execution_count": 20,
   "metadata": {},
   "outputs": [
    {
     "data": {
      "image/png": "[encoded data removed]",
      "text/plain": [
       "<Figure size 640x480 with 1 Axes>"
      ]
     },
     "metadata": {},
     "output_type": "display_data"
    }
   ],
   "source": [
    "# plot debye energy\n",
    "c = 10 # mM\n",
    "r0 = 0.1905 # nm\n",
    "\n",
    "#rescaled parameters\n",
    "lB = 36.737\n",
    "q = 1.524\n",
    "k_inv = np.sqrt(c)*r0/10 # r0^-1\n",
    "\n",
    "r = np.linspace(2, 8, 100)\n",
    "\n",
    "def Udeb(r):\n",
    "    return q**2*lB*np.exp(-k_inv*r)/r**2\n",
    "\n",
    "\n",
    "\n",
    "plt.figure()\n",
    "plt.plot(r, Udeb(r))\n",
    "plt.show()"
   ]
  },
  {
   "cell_type": "code",
   "execution_count": 21,
   "metadata": {},
   "outputs": [],
   "source": [
    "def n_PEG(m):\n",
    "    \"\"\"\n",
    "    m...PEG molecular wight in kDa\n",
    "    \"\"\"\n",
    "    m = m/(6.022e20) # g\n",
    "    nA = 6.02214076e23\n",
    "    n = (m*nA-18.02)/44.05\n",
    "    return n\n",
    "\n",
    "#print(n_PEG(1000))\n",
    "\n",
    "nA = 6.02214076e23\n",
    "g2kDa = 6.022e20\n",
    "m_1 = 44.05 # g mass of one monomere"
   ]
  },
  {
   "cell_type": "code",
   "execution_count": 22,
   "metadata": {},
   "outputs": [
    {
     "name": "stdout",
     "output_type": "stream",
     "text": [
      "1% 171.10144792832097\n",
      "2% 135.8033092173494\n",
      "4% 107.78715795619155\n"
     ]
    }
   ],
   "source": [
    "def n2L(n, c):\n",
    "    nA = 6.02214076e23\n",
    "    lbox = (44.05*n/(nA*0.997e4*c))**(1/3)*1e10/2.6\n",
    "    \n",
    "    return lbox\n",
    "\n",
    "n = 120\n",
    "print(\"1%\", n2L(n, 0.01))\n",
    "print(\"2%\", n2L(n, 0.02))\n",
    "print(\"4%\", n2L(n, 0.04))"
   ]
  },
  {
   "cell_type": "code",
   "execution_count": 23,
   "metadata": {},
   "outputs": [
    {
     "name": "stdout",
     "output_type": "stream",
     "text": [
      "{'steps': 1000, 'stride': 50, 'nbeads': 10, 'nchains': 6, 'number_of_beads': 60, 'mobility': 5e-05, 'fname_sys': '/home/jan/Desktop', 'fname_traj': '/home/jan/Desktop', 'c_S': 40}\n",
      "steps=1000 stride=50 number_of_beads=60 nbeads=10 nchains=6 mobility=5e-05 rbead=1.0 qbead=1.524 force_constant=100.0 epsilon_LJ=0.25 sigma_LJ=2.0 cutoff_LJ=2.0 lB_debye=36.737 c_S=40.0 cutoff_debye=None lbox=None pbc=True cutoff_pbc=None save_traj=True write_traj=True cwd='/home/jan/Documents/masterthesis/project/mucus/test_skripts' fname_traj='/home/jan/Desktop' fname_sys='/home/jan/Desktop' simulation_time=None bonds=None\n"
     ]
    }
   ],
   "source": [
    "path = \"/home/jan/Documents/masterthesis/project/mucus/config.toml\"\n",
    "config = Config.from_toml(path)\n",
    "data = toml.load(open(path, encoding=\"UTF-8\"))\n",
    "print(data)\n",
    "config = Config.from_dict(data)\n",
    "print(config)"
   ]
  },
  {
   "cell_type": "code",
   "execution_count": 24,
   "metadata": {},
   "outputs": [
    {
     "ename": "FileNotFoundError",
     "evalue": "[Errno 2] No such file or directory: '/home/jan/Documents/masterthesis/project/mucus/configs/tests/cfg_test_time_nbeads_0.toml'",
     "output_type": "error",
     "traceback": [
      "\u001b[0;31m---------------------------------------------------------------------------\u001b[0m",
      "\u001b[0;31mFileNotFoundError\u001b[0m                         Traceback (most recent call last)",
      "Cell \u001b[0;32mIn[24], line 5\u001b[0m\n\u001b[1;32m      3\u001b[0m \u001b[39mfor\u001b[39;00m i \u001b[39min\u001b[39;00m \u001b[39mrange\u001b[39m(\u001b[39m6\u001b[39m):\n\u001b[1;32m      4\u001b[0m     fin \u001b[39m=\u001b[39m cfg_path \u001b[39m+\u001b[39m \u001b[39mf\u001b[39m\u001b[39m\"\u001b[39m\u001b[39m/cfg_test_time_nbeads_\u001b[39m\u001b[39m{\u001b[39;00mi\u001b[39m:\u001b[39;00m\u001b[39md\u001b[39m\u001b[39m}\u001b[39;00m\u001b[39m.toml\u001b[39m\u001b[39m\"\u001b[39m\n\u001b[0;32m----> 5\u001b[0m     x \u001b[39m=\u001b[39m \u001b[39mopen\u001b[39;49m(fin, encoding\u001b[39m=\u001b[39;49m\u001b[39m\"\u001b[39;49m\u001b[39mUTF-8\u001b[39;49m\u001b[39m\"\u001b[39;49m)\n\u001b[1;32m      6\u001b[0m     out \u001b[39m=\u001b[39m toml\u001b[39m.\u001b[39mload(x)\n\u001b[1;32m      7\u001b[0m     \u001b[39mprint\u001b[39m(x)\n",
      "File \u001b[0;32m~/anaconda3/envs/mucus/lib/python3.10/site-packages/IPython/core/interactiveshell.py:282\u001b[0m, in \u001b[0;36m_modified_open\u001b[0;34m(file, *args, **kwargs)\u001b[0m\n\u001b[1;32m    275\u001b[0m \u001b[39mif\u001b[39;00m file \u001b[39min\u001b[39;00m {\u001b[39m0\u001b[39m, \u001b[39m1\u001b[39m, \u001b[39m2\u001b[39m}:\n\u001b[1;32m    276\u001b[0m     \u001b[39mraise\u001b[39;00m \u001b[39mValueError\u001b[39;00m(\n\u001b[1;32m    277\u001b[0m         \u001b[39mf\u001b[39m\u001b[39m\"\u001b[39m\u001b[39mIPython won\u001b[39m\u001b[39m'\u001b[39m\u001b[39mt let you open fd=\u001b[39m\u001b[39m{\u001b[39;00mfile\u001b[39m}\u001b[39;00m\u001b[39m by default \u001b[39m\u001b[39m\"\u001b[39m\n\u001b[1;32m    278\u001b[0m         \u001b[39m\"\u001b[39m\u001b[39mas it is likely to crash IPython. If you know what you are doing, \u001b[39m\u001b[39m\"\u001b[39m\n\u001b[1;32m    279\u001b[0m         \u001b[39m\"\u001b[39m\u001b[39myou can use builtins\u001b[39m\u001b[39m'\u001b[39m\u001b[39m open.\u001b[39m\u001b[39m\"\u001b[39m\n\u001b[1;32m    280\u001b[0m     )\n\u001b[0;32m--> 282\u001b[0m \u001b[39mreturn\u001b[39;00m io_open(file, \u001b[39m*\u001b[39;49margs, \u001b[39m*\u001b[39;49m\u001b[39m*\u001b[39;49mkwargs)\n",
      "\u001b[0;31mFileNotFoundError\u001b[0m: [Errno 2] No such file or directory: '/home/jan/Documents/masterthesis/project/mucus/configs/tests/cfg_test_time_nbeads_0.toml'"
     ]
    }
   ],
   "source": [
    "cfg_path = \"/home/jan/Documents/masterthesis/project/mucus/configs/tests\"\n",
    "\n",
    "for i in range(6):\n",
    "    fin = cfg_path + f\"/cfg_test_time_nbeads_{i:d}.toml\"\n",
    "    x = open(fin, encoding=\"UTF-8\")\n",
    "    out = toml.load(x)\n",
    "    print(x)"
   ]
  },
  {
   "cell_type": "code",
   "execution_count": null,
   "metadata": {},
   "outputs": [],
   "source": [
    "# CREATE CONFIG FILES FOR TESTING\n",
    "\n",
    "#config_dict = {'steps': 100, 'stride': 50, 'nbeads': 10, 'nchains': 8, 'mobility': 5e-05, 'fname_sys': \"'a/b/c.txt'\", 'fname_traj': None}\n",
    "config_dict = {'steps': 5000, 'stride': 50, 'nbeads': 10, 'nchains': 8, 'mobility': 5e-05}\n",
    "\n",
    "nm = ((6, 6), (10, 8), (10, 16), (12, 36), (20, 36), (11, 91))\n",
    "\n",
    "pathout = \"/home/jan/Documents/masterthesis/project/mucus/configs/tests\"\n",
    "\n",
    "for i, k in enumerate(nm):\n",
    "    config_dict[\"nbeads\"] = k[0]\n",
    "    config_dict[\"nchains\"] = k[1]\n",
    "    config_dict[\"fname_sys\"] = f\"'/home/janmak98/mucus/configs/cfg_test_time_nbeads_{i:d}.toml'\"\n",
    "    config_dict[\"fname_traj\"] = f\"'/storage/janmak98/masterthesis/trajectories/box/test/traj_test_time_nbeads_{i:d}.gro'\"\n",
    "    config_dict[\"cwd\"] = \"'/home/janmak98/mucus'\"\n",
    "    output = \"\"\n",
    "    for key in config_dict:\n",
    "        output += f\"{key:s} = {config_dict[key]}\\n\"\n",
    "    \n",
    "    fout = pathout + f\"/cfg_test_time_nbeads_{i:d}.toml\"\n",
    "\n",
    "    f = open(fout, \"w\")\n",
    "    f.write(output)\n",
    "    f.close()\n",
    "    \n",
    "    #cfg = Config.from_dict(config_dict)\n",
    "    #print(cfg)\n",
    "    #cfg.save_config(fout)\n",
    "    \n"
   ]
  },
  {
   "cell_type": "code",
   "execution_count": null,
   "metadata": {},
   "outputs": [
    {
     "data": {
      "image/png": "[encoded data removed]",
      "text/plain": [
       "<Figure size 640x480 with 1 Axes>"
      ]
     },
     "metadata": {},
     "output_type": "display_data"
    },
    {
     "name": "stdout",
     "output_type": "stream",
     "text": [
      "\n",
      "Number of beads\n",
      "[36, 80, 160, 432, 720, 1001]\n",
      "\n",
      "Simulation time in minutes\n",
      "[ 0.17098269  0.1571634   0.99199353  6.32884361  3.5414225  39.14664487]\n",
      "\n",
      "Particle density of the system in r0^-3\n",
      "[0.020833333333333332, 0.01, 0.02, 0.03125, 0.01125, 0.09400826446280992]\n",
      "\n",
      "Time to simulate system scaled up to 1000 particles and 1e7 steps in hours\n",
      "[ 15.83173025   6.54847489  20.66653197  48.83366986  16.39547453\n",
      " 130.35845779]\n"
     ]
    }
   ],
   "source": [
    "# plot simulation times\n",
    "time = list(())\n",
    "nbeads = list(())\n",
    "rhobox = list(())\n",
    "for i in range(6):\n",
    "    path = f'/home/jan/Documents/masterthesis/project/mucus/configs/cfg_test_time_nbeads_{i:d}.toml'\n",
    "    data = toml.load(open(path, encoding=\"UTF-8\"))\n",
    "    time.append(data[\"simulation_time\"])\n",
    "    nbeads.append(data[\"nbeads\"]*data[\"nchains\"])\n",
    "    rhobox.append(data[\"nbeads\"]*data[\"nchains\"]/data[\"lbox\"]**3)\n",
    "\n",
    "plt.figure()\n",
    "plt.plot(nbeads, time)\n",
    "plt.plot(nbeads, np.array(rhobox)*10000)\n",
    "plt.plot(nbeads, time/(np.array(rhobox)*10))\n",
    "plt.xlabel(\"number of beads\")\n",
    "plt.ylabel(\"time / s\")\n",
    "plt.show()\n",
    "print(\"\\nNumber of beads\")\n",
    "print(nbeads)\n",
    "print(\"\\nSimulation time in minutes\")\n",
    "print(np.array(time)/60)\n",
    "print(\"\\nParticle density of the system in r0^-3\")\n",
    "print(rhobox)\n",
    "print(\"\\nTime to simulate system scaled up to 1000 particles and 1e7 steps in hours\")\n",
    "print(np.array(time)/60/60*1000/np.array(nbeads)*1e6/5000)"
   ]
  },
  {
   "cell_type": "code",
   "execution_count": null,
   "metadata": {},
   "outputs": [
    {
     "name": "stdout",
     "output_type": "stream",
     "text": [
      "36\n",
      "80\n",
      "160\n",
      "432\n",
      "720\n",
      "1001\n",
      "10\n"
     ]
    },
    {
     "data": {
      "text/plain": [
       "[<matplotlib.lines.Line2D at 0x7f1bd923d0c0>]"
      ]
     },
     "execution_count": 38,
     "metadata": {},
     "output_type": "execute_result"
    },
    {
     "data": {
      "image/png": "[encoded data removed]",
      "text/plain": [
       "<Figure size 640x480 with 1 Axes>"
      ]
     },
     "metadata": {},
     "output_type": "display_data"
    }
   ],
   "source": [
    "# create different config files, that are loaded into the class with a loop\n",
    "\n",
    "config_dict = {'steps': 10000, 'stride': 50, 'nbeads': 10, 'nchains': 8, 'mobility': 5e-05}\n",
    "\n",
    "nm = ((6, 6), (10, 8), (10, 16), (12, 36), (20, 36), (11, 91))\n",
    "\n",
    "for k in nm:\n",
    "    n = k[0]\n",
    "    m = k[1]\n",
    "    print(n*m)\n",
    "\n",
    "print(config_dict['nbeads'])\n",
    "xy = np.array(nm)\n",
    "plt.plot(xy[:, 0]*xy[:, 1],xy[:, 0]*xy[:, 1]+100*np.random.randn(*np.shape(xy[:,1])))\n"
   ]
  },
  {
   "cell_type": "code",
   "execution_count": null,
   "metadata": {},
   "outputs": [
    {
     "name": "stdout",
     "output_type": "stream",
     "text": [
      "[False  True False]\n",
      "[[1 2]\n",
      " [5 6]]\n",
      "[[3 4]]\n"
     ]
    }
   ],
   "source": [
    "x = np.array(((1, 2),(3,4),(5,6)))\n",
    "\n",
    "L = list((True, False, True))\n",
    "print(np.logical_not(L))\n",
    "\n",
    "print(x[L])\n",
    "print(x[np.logical_not(L)])"
   ]
  }
 ],
 "metadata": {
  "kernelspec": {
   "display_name": "mucus",
   "language": "python",
   "name": "python3"
  },
  "language_info": {
   "codemirror_mode": {
    "name": "ipython",
    "version": 3
   },
   "file_extension": ".py",
   "mimetype": "text/x-python",
   "name": "python",
   "nbconvert_exporter": "python",
   "pygments_lexer": "ipython3",
   "version": "3.10.8"
  },
  "orig_nbformat": 4,
  "vscode": {
   "interpreter": {
    "hash": "e4c7bcd968ce4280c944f6cd2dacba05d8381ac4d3aeee75066fba063ae2bf0c"
   }
  }
 },
 "nbformat": 4,
 "nbformat_minor": 2
}
