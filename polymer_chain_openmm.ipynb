{
 "cells": [
  {
   "cell_type": "code",
   "execution_count": 1,
   "metadata": {},
   "outputs": [],
   "source": [
    "import numpy as np\n",
    "import openmm as mm\n",
    "from openmm import app\n",
    "import pdbfixer"
   ]
  },
  {
   "cell_type": "code",
   "execution_count": 2,
   "metadata": {},
   "outputs": [
    {
     "name": "stdout",
     "output_type": "stream",
     "text": [
      "T = 300.0\n",
      "1.4492753623188403e+18\n"
     ]
    }
   ],
   "source": [
    "# define constants and parameters\n",
    "\n",
    "\n",
    "#molecule\n",
    "mu_0 = 0.002 #rescaled monomer mobility\n",
    "l_B =  0.7*mm.unit.angstrom*10 # nanometer\n",
    "a_beed = 1*mm.unit.angstrom*10\n",
    "q_beed = 1*mm.unit.elementary_charge\n",
    "Xi = 6*q_beed\n",
    "m_C = 12.01078 #g/mol\n",
    "m_atom = m_C*1e-3*6.022e-23 #kg/particle\n",
    "gamma = 953975.2938283861 # 1/s friction coefficient, chosen so T=300K\n",
    "gamma_ps = gamma*1e-12  # 1/ps\n",
    "\n",
    "chain_beed_distance = 2 # unit less\n",
    "chain_n_beeds = 2\n",
    "\n",
    "#unit cell\n",
    "uc_a = 1.5*chain_beed_distance*chain_n_beeds\n",
    "uc = (uc_a, uc_a, uc_a, 90, 90, 90)\n",
    "\n",
    "#environment\n",
    "# set temperature so the total so the random force is scaled approriately\n",
    "kB = 1.38e-23\n",
    "\n",
    "def T_reduced(m, gamma):\n",
    "    \"\"\"\n",
    "    calculates temperature (K) dependent on per particle mass and friction coefficient\n",
    "    for proper random force scaling\n",
    "    \"\"\"\n",
    "    return 0.006*m*gamma/1.38e-23\n",
    "\n",
    "temperature = T_reduced(m_atom, gamma)\n",
    "print(\"T =\", temperature)\n",
    "\n",
    "print(1/(gamma*m_atom))\n",
    "\n"
   ]
  },
  {
   "cell_type": "code",
   "execution_count": 3,
   "metadata": {},
   "outputs": [],
   "source": [
    "#chain_n_beeds = 5\n",
    "#chain_beed_distance = 2\n",
    "file_name = f\"polymer_{chain_n_beeds:d}_beeds\"\n",
    "\n",
    "# create pdb file\n",
    "pdb_file = file_name+\".pdb\"\n",
    "\n",
    "# TODO problems:\n",
    "#   add atom names\n",
    "# specify bonds using CONECT\n",
    "\n",
    "with open(pdb_file, \"w\") as f:\n",
    "    f.write(\"HEADER\\t\"+file_name+\"\\n\")\n",
    "    f.write(f\"CRYST1   60.000   60.000   60.000  90.00  90.00  90.00 P 1           1 \\n\")\n",
    "    \n",
    "    # create chain along the x-axis\n",
    "    for k in range(chain_n_beeds):\n",
    "        #f.write(f\"HETATM{k+1:5d}\t CA\t HET X       {k*chain_beed_distance+chain_beed_distance:6.3f}   0       0  1.00  0.00          Ca  \\n\")\n",
    "        f.write(f\"HETATM{k+1:5d} CA   HET X{k+1:4d}    {k*chain_beed_distance+chain_beed_distance:8.3f}{0.0:8.3f}{0.0:8.3f}{1.0:6.2f}{0.0:6.2f}           C  \\n\")\n",
    "    #terminate chain\n",
    "    f.write(f\"TER    {k+2:4d}      HET X {k+1:3d}\\n\")\n",
    "    \n",
    "    # add bonds\n",
    "    f.write(f\"CONECT{1:5d}{2:5d}\\n\") #first beed\n",
    "    for k in range(2, chain_n_beeds):\n",
    "        f.write(f\"CONECT{k:5d}{k-1:5d}{k+1:5d}\\n\") #middle beeds\n",
    "    f.write(f\"CONECT{chain_n_beeds:5d}{chain_n_beeds-1:5d}\\n\") #last beed\n",
    "    \n",
    "    f.write(\"END\\n\")\n",
    "    f.close()"
   ]
  },
  {
   "cell_type": "code",
   "execution_count": 5,
   "metadata": {},
   "outputs": [],
   "source": [
    "#define topology\n",
    "\n",
    "# TODO make FF paremeters variable\n",
    "# also: what is my charge?\n",
    "\n",
    "# create force field in xml file\n",
    "\n",
    "xml_file = file_name+\".xml\"\n",
    "with open(xml_file, \"w\") as f:\n",
    "    #initiate\n",
    "    f.write(\"<ForceField>\\n\")\n",
    "    \n",
    "    #define atom types\n",
    "    f.write(\"\\t<AtomTypes>\\n\\t\\t<Type name=\\\"0\\\" class=\\\"CA\\\" element=\\\"C\\\" mass=\\\"12.01078\\\"/>\\n\\t</AtomTypes>\\n\")\n",
    "    \n",
    "    #define residue\n",
    "\n",
    "    #add atoms\n",
    "    f.write(\"\\t<Residues>\\n\\t\\t<Residue name=\\\"HET\\\">\\n\")\n",
    "    for k in range(1, chain_n_beeds+1):\n",
    "        f.write(f\"\\t\\t\\t<Atom name=\\\"{k:d}\\\" type=\\\"0\\\"/>\\n\")\n",
    "        \n",
    "    #add bonds\n",
    "    f.write(f\"\\t\\t\\t<Bond atomName1=\\\"{1:d}\\\" atomName2=\\\"{2:d}\\\"/>\\n\")\n",
    "    for k in range(2, chain_n_beeds):\n",
    "        f.write(f\"\\t\\t\\t<Bond atomName1=\\\"{k:d}\\\" atomName2=\\\"{k-1:d}\\\"/>\\n\")\n",
    "        f.write(f\"\\t\\t\\t<Bond atomName1=\\\"{k:d}\\\" atomName2=\\\"{k+1:d}\\\"/>\\n\")\n",
    "    f.write(f\"\\t\\t\\t<Bond atomName1=\\\"{chain_n_beeds:d}\\\" atomName2=\\\"{chain_n_beeds-1:d}\\\"/>\\n\")\n",
    "    f.write(\"\\t\\t</Residue>\\n\\t</Residues>\\n\")\n",
    "    \n",
    "    #define forcefield\n",
    "    \n",
    "    #add nearest neighbours\n",
    "    f.write(\"\\t<CustomBondForce energy=\\\"K*(r-r0)^2\\\">\\n\")\n",
    "    f.write(\"\\t\\t<GlobalParameter name=\\\"K\\\" defaultValue=\\\"100\\\"/>\\n\")\n",
    "    f.write(\"\\t\\t<GlobalParameter name=\\\"r0\\\" defaultValue=\\\"2\\\"/>\\n\")\n",
    "    f.write(\"\\t\\t<Bond class1=\\\"CA\\\" class2=\\\"CA\\\"/>\\n\")\n",
    "    f.write(\"\\t</CustomBondForce>\\n\")\n",
    "    \n",
    "    # TODO: CHOOSE SENSIBLE CUTOFF \n",
    "    \n",
    "    #add debye interaction\n",
    "    f.write(\"\\t<CustomNonbondedForce energy=\\\"q^2*lB*exp(r)/r\\\" bondCutoff=\\\"4\\\">\\n\")\n",
    "    f.write(\"\\t\\t<GlobalParameter name=\\\"lB\\\" defaultValue=\\\"4\\\"/>\\n\")\n",
    "    f.write(\"\\t\\t<GlobalParameter name=\\\"q\\\" defaultValue=\\\"1\\\"/>\\n\")\n",
    "    f.write(\"\\t\\t<Atom type=\\\"0\\\"/>\\n\")\n",
    "    f.write(\"\\t</CustomNonbondedForce>\\n\")\n",
    "    \n",
    "    #add LJ interaction\n",
    "    # NOTE is the +1 in the LJ dependant on the units???\n",
    "    # TODO: make cutoff and sigma variable\n",
    "    f.write(\"\\t<CustomNonbondedForce energy=\\\"epsilon*(2^12/r^12 - 2^7/r^6 + 1)\\\" bondCutoff=\\\"2\\\">\\n\")\n",
    "    f.write(\"\\t\\t<GlobalParameter name=\\\"epsilon\\\" defaultValue=\\\"1\\\"/>\\n\")\n",
    "    f.write(\"\\t\\t<Atom type=\\\"0\\\"/>\\n\")\n",
    "    f.write(\"\\t</CustomNonbondedForce>\\n\")\n",
    "    \n",
    "    #close xml\n",
    "    f.write(\"</ForceField>\\n\")\n",
    "    f.close()"
   ]
  },
  {
   "cell_type": "code",
   "execution_count": 6,
   "metadata": {},
   "outputs": [
    {
     "ename": "ValueError",
     "evalue": "No template found for residue 1 (HET).  This might mean your input topology is missing some atoms or bonds, or possibly that you are using the wrong force field.",
     "output_type": "error",
     "traceback": [
      "\u001b[0;31m---------------------------------------------------------------------------\u001b[0m",
      "\u001b[0;31mValueError\u001b[0m                                Traceback (most recent call last)",
      "Cell \u001b[0;32mIn[6], line 5\u001b[0m\n\u001b[1;32m      2\u001b[0m pdb \u001b[39m=\u001b[39m app\u001b[39m.\u001b[39mpdbfile\u001b[39m.\u001b[39mPDBFile(pdb_file)\n\u001b[1;32m      4\u001b[0m forcefield \u001b[39m=\u001b[39m app\u001b[39m.\u001b[39mForceField(xml_file)\n\u001b[0;32m----> 5\u001b[0m system \u001b[39m=\u001b[39m forcefield\u001b[39m.\u001b[39;49mcreateSystem(pdb\u001b[39m.\u001b[39;49mtopology)\n\u001b[1;32m      7\u001b[0m \u001b[39m# TODO: choose good timestep and timescale\u001b[39;00m\n\u001b[1;32m      8\u001b[0m timestep \u001b[39m=\u001b[39m \u001b[39m0.001\u001b[39m\n",
      "File \u001b[0;32m~/anaconda3/envs/mucus/lib/python3.10/site-packages/openmm/app/forcefield.py:1212\u001b[0m, in \u001b[0;36mForceField.createSystem\u001b[0;34m(self, topology, nonbondedMethod, nonbondedCutoff, constraints, rigidWater, removeCMMotion, hydrogenMass, residueTemplates, ignoreExternalBonds, switchDistance, flexibleConstraints, drudeMass, **args)\u001b[0m\n\u001b[1;32m   1208\u001b[0m rigidResidue \u001b[39m=\u001b[39m [\u001b[39mFalse\u001b[39;00m]\u001b[39m*\u001b[39mtopology\u001b[39m.\u001b[39mgetNumResidues()\n\u001b[1;32m   1210\u001b[0m \u001b[39m# Find the template matching each residue and assign atom types.\u001b[39;00m\n\u001b[0;32m-> 1212\u001b[0m templateForResidue \u001b[39m=\u001b[39m \u001b[39mself\u001b[39;49m\u001b[39m.\u001b[39;49m_matchAllResiduesToTemplates(data, topology, residueTemplates, ignoreExternalBonds)\n\u001b[1;32m   1213\u001b[0m \u001b[39mfor\u001b[39;00m res \u001b[39min\u001b[39;00m topology\u001b[39m.\u001b[39mresidues():\n\u001b[1;32m   1214\u001b[0m     \u001b[39mif\u001b[39;00m res\u001b[39m.\u001b[39mname \u001b[39m==\u001b[39m \u001b[39m'\u001b[39m\u001b[39mHOH\u001b[39m\u001b[39m'\u001b[39m:\n\u001b[1;32m   1215\u001b[0m         \u001b[39m# Determine whether this should be a rigid water.\u001b[39;00m\n",
      "File \u001b[0;32m~/anaconda3/envs/mucus/lib/python3.10/site-packages/openmm/app/forcefield.py:1427\u001b[0m, in \u001b[0;36mForceField._matchAllResiduesToTemplates\u001b[0;34m(self, data, topology, residueTemplates, ignoreExternalBonds, ignoreExtraParticles, recordParameters)\u001b[0m\n\u001b[1;32m   1425\u001b[0m                 \u001b[39mbreak\u001b[39;00m\n\u001b[1;32m   1426\u001b[0m \u001b[39mif\u001b[39;00m matches \u001b[39mis\u001b[39;00m \u001b[39mNone\u001b[39;00m:\n\u001b[0;32m-> 1427\u001b[0m     \u001b[39mraise\u001b[39;00m \u001b[39mValueError\u001b[39;00m(\u001b[39m'\u001b[39m\u001b[39mNo template found for residue \u001b[39m\u001b[39m%d\u001b[39;00m\u001b[39m (\u001b[39m\u001b[39m%s\u001b[39;00m\u001b[39m).  \u001b[39m\u001b[39m%s\u001b[39;00m\u001b[39m'\u001b[39m \u001b[39m%\u001b[39m (res\u001b[39m.\u001b[39mindex\u001b[39m+\u001b[39m\u001b[39m1\u001b[39m, res\u001b[39m.\u001b[39mname, _findMatchErrors(\u001b[39mself\u001b[39m, res)))\n\u001b[1;32m   1428\u001b[0m \u001b[39melse\u001b[39;00m:\n\u001b[1;32m   1429\u001b[0m     \u001b[39mif\u001b[39;00m recordParameters:\n",
      "\u001b[0;31mValueError\u001b[0m: No template found for residue 1 (HET).  This might mean your input topology is missing some atoms or bonds, or possibly that you are using the wrong force field."
     ]
    }
   ],
   "source": [
    "# create system\n",
    "pdb = app.pdbfile.PDBFile(pdb_file)\n",
    "\n",
    "forcefield = app.ForceField(xml_file)\n",
    "system = forcefield.createSystem(pdb.topology)\n",
    "\n",
    "# TODO: choose good timestep and timescale\n",
    "timestep = 0.001\n",
    "\n",
    "\"\"\"The Brownian equation of motion is derived from the Langevin equation of motion \n",
    "in the limit of large gamma In that case, the velocity of a particle is determined \n",
    "entirely by the instantaneous force acting on it, and kinetic energy ceases to have \n",
    "much meaning, since it disappears as soon as the applied force is removed.\"\"\"\n",
    "\n",
    "\n",
    "# define integrator \n",
    "# NOTE: for this simulation the friction is set to zero\n",
    "# set temperature so the total so the random force is scaled approriately\n",
    "integrator = mm.openmm.BrownianIntegrator(temperature*mm.unit.kelvin, gamma/mm.unit.picoseconds, timestep*mm.unit.picoseconds)\n",
    "\n",
    "    \n",
    "# prepare simulation\n",
    "platform = mm.Platform.getPlatformByName('CPU') # change from CUDA to CPU\n",
    "\n",
    "# NOTE: the integrator must be defined to set up the simulation class, but it is not used\n",
    "simulation = app.simulation.Simulation(pdb.topology, system, integrator, platform)\n",
    "simulation.context.setPositions(pdb.positions)# Set initial positions\n",
    "\n",
    "# integrate manually and use openmm force calculations\n",
    "state = simulation.context.getState(getPositons=True, getVelocities=True, getForces=True)\n",
    "positions = state.getPositons(asNumpy=True)\n",
    "forces = state.getForces(asNumpy=True)\n",
    "velocities = state.getVelocities(asNumpy=True)\n",
    "# integration routine with numpy arrays\n",
    "simulation.context.setPositions(positions)\n",
    "simulation.context.setVelocities(velocities)\n",
    "\n",
    "# minimize energy of the system to avoid any possible overlaps that may result in high forces\n",
    "# (not necessary here, but still)\n",
    "simulation.minimizeEnergy()\n",
    "\n",
    "\n",
    "# simulate"
   ]
  },
  {
   "cell_type": "code",
   "execution_count": null,
   "metadata": {},
   "outputs": [
    {
     "data": {
      "text/plain": [
       "<function openmm.openmm.LangevinIntegrator.__init__(self, *args)>"
      ]
     },
     "execution_count": 16,
     "metadata": {},
     "output_type": "execute_result"
    }
   ],
   "source": []
  },
  {
   "cell_type": "code",
   "execution_count": null,
   "metadata": {},
   "outputs": [],
   "source": []
  }
 ],
 "metadata": {
  "kernelspec": {
   "display_name": "mucus",
   "language": "python",
   "name": "python3"
  },
  "language_info": {
   "codemirror_mode": {
    "name": "ipython",
    "version": 3
   },
   "file_extension": ".py",
   "mimetype": "text/x-python",
   "name": "python",
   "nbconvert_exporter": "python",
   "pygments_lexer": "ipython3",
   "version": "3.10.8"
  },
  "orig_nbformat": 4,
  "vscode": {
   "interpreter": {
    "hash": "e4c7bcd968ce4280c944f6cd2dacba05d8381ac4d3aeee75066fba063ae2bf0c"
   }
  }
 },
 "nbformat": 4,
 "nbformat_minor": 2
}
